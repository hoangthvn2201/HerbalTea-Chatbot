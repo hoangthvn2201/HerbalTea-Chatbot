{
 "cells": [
  {
   "cell_type": "code",
   "execution_count": 1,
   "id": "93c4888c",
   "metadata": {},
   "outputs": [],
   "source": [
    "# !pip install -qq scrapy\n",
    "# !pip install langchain\n",
    "# !pip install -qU langchain-community faiss-cpu\n",
    "# !pip install -qU langchain-openai\n",
    "# !pip install --upgrade --quiet  rank_bm25\n",
    "# !pip install langchain_experimental\n",
    "# !pip install -U FlagEmbedding\n",
    "# !pip install --upgrade --quiet  langchain-google-genai\n",
    "# !pip install pyngrok\n",
    "# !pip install flask_cors\n",
    "# !pip install -U pinecone"
   ]
  },
  {
   "cell_type": "code",
   "execution_count": 1,
   "id": "7a3834a6",
   "metadata": {},
   "outputs": [],
   "source": [
    "from dotenv import load_dotenv\n",
    "import os\n",
    "\n",
    "load_dotenv()\n",
    "\n",
    "ngrok_token = os.getenv('NGROK_TOKEN')\n",
    "gemini_token = os.getenv('GEMINI_TOKEN')\n",
    "pinecone_api = os.getenv('PINECONE_TOKEN')"
   ]
  },
  {
   "cell_type": "code",
   "execution_count": 2,
   "id": "1c09e6c2",
   "metadata": {},
   "outputs": [],
   "source": [
    "import json\n",
    "\n",
    "# Load the `output.json` file\n",
    "with open('data.json', 'r',encoding=\"utf8\") as f:\n",
    "    data = json.load(f)"
   ]
  },
  {
   "cell_type": "code",
   "execution_count": 3,
   "id": "bafadcd2",
   "metadata": {},
   "outputs": [
    {
     "name": "stdout",
     "output_type": "stream",
     "text": [
      "14\n"
     ]
    }
   ],
   "source": [
    "from uuid import uuid4\n",
    "from bs4 import BeautifulSoup\n",
    "from langchain_core.documents import Document\n",
    "\n",
    "#remove excess characters and duplicate text\n",
    "# import re\n",
    "# for item in data:\n",
    "#   item['content'] = re.sub(r'[^\\S ]+', ' ', item['content'])\n",
    "\n",
    "\n",
    "introduction = \"Giới thiệu về cửa hàng: HerbaZen - Thương hiệu trà thảo mộc hiện đại, hướng đến lối sống xanh và quan tâm đến sức khỏe.\"\n",
    "warranty = \" HerbaZen cam kết mang đến những sản phẩm trà thảo mộc nguyên chất, được tuyển chọn kỹ lưỡng từ các vùng nguyên liệu sạch, không chất bảo quản, an toàn và tốt cho sức khỏe.\"\n",
    "note = \"\"\"Lưu ý khi sử dụng các dòng trà HerbaZen: \n",
    "-Nên uống sau khi ăn sáng và trước khi ngủ 30 phút để đạt hiệu quả tốt nhất.\n",
    "-Không dùng khi đói hoặc thay thế hoàn toàn nước uống hàng ngày.\n",
    "-Phụ nữ mang thai và người mắc bệnh mãn tính nên tham khảo ý kiến bác sĩ trước khi sử dụng.\n",
    "-Đối với trà cam quế đường phèn: Không nên uống quá nhiều vào buổi tối vì quế có thể gây kích thích nhẹ\n",
    "-Đối với trà an mộng: Không nên uống khi lái xe, cần tỉnh táo, Không nên dùng cùng lúc với thuốc an thần (có thể gây buồn ngủ quá mức)\n",
    "-Đối với trà hoa hồng đường nâu-Trà dịu hồng: Không dùng cho người đang bị cảm nóng, sốt và Người có cơ địa nóng trong nên hạn chế đường nâu\n",
    "-Đối với trà dưỡng nhan: Không nên uống khi đang có dấu hiệu nóng trong (nổi mụn, nhiệt miệng), Người bị tiểu đường nên hạn chế hoặc bỏ các thành phần chứa đường\n",
    "\"\"\"\n",
    "categories = \"Các loại sản phẩm/Trà trong cửa hàng đang bán: Hoa hồng đường phèn - Hồng Tâm An, Hoa cúc táo đỏ kỳ tử - Cúc Ngọc Dưỡng Huyết,Trà an mộng ngủ ngon, Hoa hồng đường nâu - Trà dịu hồng\"\n",
    "list_of_documents = []\n",
    "for item in data: \n",
    "  content = item['title'] + \" \\nGiá tiền: \" + item['Price'] + \" \\nNguyên liệu: \" + item['ingredients'] + \"\\n Công dụng: \" + item['uses'] + \"\\n Hướng dẫn sử dụng: \" + item[\"how to use\"] + \"\\nHạn sử dụng (HSD): \" + item[\"HSD\"] + \"\\n Số lượng: \" + item['quantity']\n",
    "  list_of_documents.append(Document(page_content=content))\n",
    "\n",
    "list_of_documents.append(Document(page_content=introduction))\n",
    "list_of_documents.append(Document(page_content=warranty))\n",
    "list_of_documents.append(Document(page_content=note))\n",
    "list_of_documents.append(Document(page_content=categories))\n",
    "\n",
    "print(len(list_of_documents))"
   ]
  },
  {
   "cell_type": "code",
   "execution_count": 4,
   "id": "76a1179e",
   "metadata": {},
   "outputs": [],
   "source": [
    "from uuid import uuid4\n",
    "from langchain_google_genai import GoogleGenerativeAIEmbeddings\n",
    "\n",
    "uuids = [str(uuid4()) for _ in range(len(list_of_documents))]\n",
    "embeddings = GoogleGenerativeAIEmbeddings(model=\"models/text-embedding-004\", google_api_key=gemini_token)\n"
   ]
  },
  {
   "cell_type": "code",
   "execution_count": 6,
   "id": "2a20b216",
   "metadata": {},
   "outputs": [
    {
     "data": {
      "text/plain": [
       "['19fbe024-ca70-4736-a727-82ba80d044d0',\n",
       " '9f164dc1-74f5-4c6a-a810-7b7647171ae3',\n",
       " '58006b7d-282c-442a-9513-9a5402740a95',\n",
       " '675c73aa-839d-47a5-bf9a-2bc9a17b36e2',\n",
       " '5178727b-b945-4993-858c-0c8e1b4adb04',\n",
       " '8e54c175-dc0a-4a0c-8dc2-512171772ca0',\n",
       " 'a7d005f6-d6f3-4fe2-af0b-b7619bf97c8f',\n",
       " 'd76df158-ea35-4c8d-9dc7-fc38fa5ad62b',\n",
       " '14372ed2-885f-4b6f-9dc5-c0b8e976c1ee',\n",
       " '76f55817-552f-4d9e-b70e-7e963b0f08a7',\n",
       " 'd2670708-ffa9-4304-bc52-04ae73fd3a21',\n",
       " '8e23328e-a6ab-4917-a8b5-13cab8ed812e',\n",
       " '8ec1171b-daf0-434b-8899-2ecfd8de48e4',\n",
       " 'e5e809ce-d364-4026-8f5f-3e439687c35e']"
      ]
     },
     "execution_count": 6,
     "metadata": {},
     "output_type": "execute_result"
    }
   ],
   "source": [
    "# Initialize the FAISS vector store\n",
    "import faiss\n",
    "from langchain_community.docstore.in_memory import InMemoryDocstore\n",
    "from langchain_community.vectorstores import FAISS\n",
    "from langchain_community.vectorstores.faiss import DistanceStrategy\n",
    "\n",
    "index = faiss.IndexFlatL2(len(embeddings.embed_query(\"hello world\")))\n",
    "\n",
    "vector_store = FAISS(\n",
    "    embedding_function=embeddings,\n",
    "    index=index,\n",
    "    docstore=InMemoryDocstore(),\n",
    "    index_to_docstore_id={},\n",
    ")\n",
    "vector_store.add_documents(documents=list_of_documents, ids=uuids)"
   ]
  },
  {
   "cell_type": "code",
   "execution_count": 7,
   "id": "6ab0586f",
   "metadata": {},
   "outputs": [],
   "source": [
    "# Using BM25 retriever from LangChain\n",
    "from langchain_community.retrievers import BM25Retriever\n",
    "bm25_retriever = BM25Retriever.from_documents(\n",
    "  list_of_documents, k = 10\n",
    ")"
   ]
  },
  {
   "cell_type": "code",
   "execution_count": 8,
   "id": "b8797797",
   "metadata": {},
   "outputs": [],
   "source": [
    "from pinecone import Pinecone\n",
    "class Reranker:\n",
    "  def __init__(self, pc_api, model = \"bge-reranker-v2-m3\"):\n",
    "    self.pc = Pinecone(pc_api)\n",
    "    self.model = model\n",
    "  def compute_score(self, query, documents):\n",
    "    results = self.pc.inference.rerank(\n",
    "        model = self.model,\n",
    "        query = query,\n",
    "        documents = documents,\n",
    "        parameters= {\n",
    "            \"truncate\": \"END\",\n",
    "        },\n",
    "    )\n",
    "    results_list =[]\n",
    "    for r in results.data:\n",
    "      results_list.append([r.score,r.document])\n",
    "    return results_list\n",
    "reranker = Reranker(pinecone_api)"
   ]
  },
  {
   "cell_type": "code",
   "execution_count": 9,
   "id": "6f461d64",
   "metadata": {},
   "outputs": [],
   "source": [
    "class Retriever:\n",
    "  def __init__(self, semantic_retriever, bm25_retriever, reranker):\n",
    "    self.semantic_retriever = semantic_retriever\n",
    "    self.bm25_retriever = bm25_retriever\n",
    "    self.reranker = reranker\n",
    "\n",
    "  def __call__(self,query):\n",
    "    semantic_results = self.semantic_retriever.similarity_search(\n",
    "      query,\n",
    "      k=10,\n",
    "    )\n",
    "    bm25_results = self.bm25_retriever.invoke(query)\n",
    "\n",
    "    content = set()\n",
    "    retrieval_docs = []\n",
    "\n",
    "    for result in semantic_results:\n",
    "      if result.page_content not in content:\n",
    "        content.add(result.page_content)\n",
    "        retrieval_docs.append(result)\n",
    "\n",
    "    for result in bm25_results:\n",
    "      if result.page_content not in content:\n",
    "        content.add(result.page_content)\n",
    "        retrieval_docs.append(result)\n",
    "\n",
    "    # pairs = [[query,doc.page_content] for doc in retrieval_docs]\n",
    "\n",
    "    # scores = self.reranker.compute_score(pairs,normalize = True)\n",
    "    results = reranker.compute_score(query, [doc.page_content for doc in retrieval_docs])\n",
    "    scores = [r[0] for r in results]\n",
    "\n",
    "    # Retrieve the parent document from the child chunk based on a threshold score.\n",
    "    context_1 = []\n",
    "    context_2 = []\n",
    "    context = []\n",
    "    parent_ids = set()\n",
    "    for i in range(len(results)):\n",
    "      # Relevance score >= 0.6 will be used as context type 1 (indicating higher relevance to the query)\n",
    "      if scores[i] >= 0.6:\n",
    "        context_1.append(results[i][1]['text'])\n",
    "      # Relevance score >= 0.1 will be used as context type 2 (indicating medium to lower relevance to the query)\n",
    "      elif scores[i] >= 0.1:\n",
    "        context_2.append(results[i][1]['text'])\n",
    "      # If the relevance score < 0.1, it indicates that there are no relevant documents.\n",
    "    if len(context_1) > 0:\n",
    "      print('Context 1')\n",
    "      context=context_1\n",
    "    elif len(context_2) > 0:\n",
    "      print('Context 2')\n",
    "      context=context_2\n",
    "    else:\n",
    "      print('No relevant context')\n",
    "    return context"
   ]
  },
  {
   "cell_type": "code",
   "execution_count": 10,
   "id": "eb86a6b2",
   "metadata": {},
   "outputs": [
    {
     "name": "stdout",
     "output_type": "stream",
     "text": [
      "Context 1\n"
     ]
    },
    {
     "data": {
      "text/plain": [
       "['Các loại sản phẩm/Trà trong cửa hàng đang bán: Hoa hồng đường phèn - Hồng Tâm An, Hoa cúc táo đỏ kỳ tử - Cúc Ngọc Dưỡng Huyết,Trà an mộng ngủ ngon, Hoa hồng đường nâu - Trà dịu hồng',\n",
       " 'Hoa hồng đường phèn - Hồng Tâm An \\nGiá tiền: 90.000 VND \\nNguyên liệu: Trà hoa hồng đường phèn được ép từ những bông hoa hồng tự nhiên được phơi hoặc sấy khô kết hợp với đường phèn và cốt trà bên trong viên trà. Nguyên liệu được trồng ở vùng núi cao Tây Bắc với khí hậu mát mẻ và nhập khẩu với nguồn gốc xuất xứ rõ ràng, chế biến theo phương pháp truyền thống kết hợp hiện đại.\\n Công dụng: Những loại trà thảo mộc đường phèn ở đây đều rất tốt cho sức khỏe và mỗi loại cho ta 1 công dụng khác nhau: \\n- Là thức uống tự nhiên uống thơm ngon tốt cho sức khỏe thay các loại nước ngọt hóa học \\n- Tăng cường sức khỏe, tăng khả năng miễn dịch \\n- Làm đẹp da, sáng mắt, thanh nhiệt, thải độc \\n- Hỗ trợ ngủ ngon, tốt cho người huyết áp thấp\\n Hướng dẫn sử dụng: Pha 500ml nước nóng hơn 90 độ C, đợi 7-10 phút rồi sử dụng.\\nHạn sử dụng (HSD): 6 tháng kể từ ngày sản xuất\\n Số lượng: 12 viên',\n",
       " 'Hoa hồng đường nâu - Trà dịu hồng \\nGiá tiền: 90.000 VND \\nNguyên liệu: Nụ hoa hồng sấy khô, đường nâu\\n Công dụng: Làm đẹp da, điều hòa nội tiết tố nữ, Cải thiện tâm trạng, giảm stress, Hỗ trợ giảm đau bụng kinh nhẹ, điều hòa kinh nguyệt\\n Hướng dẫn sử dụng: Pha 250ml nước nóng hơn 90 độ C, đợi 7-10 phút rồi sử dụng.\\nHạn sử dụng (HSD): 6 tháng kể từ ngày sản xuất\\n Số lượng: 12 viên',\n",
       " 'Trà dưỡng nhan \\nGiá tiền: 90.000 VND \\nNguyên liệu: Hoa hồng, kỷ tử, táo đỏ, long nhãn, hạt sen, mật ong\\n Công dụng: Làm sáng da, chống lão hóa, dưỡng khí huyết, Cân bằng nội tiết tố nữ,Tăng cường sinh lực, giảm mệt mỏi\\n Hướng dẫn sử dụng: Pha 250ml nước nóng hơn 90 độ C, đợi 7-10 phút rồi sử dụng.\\nHạn sử dụng (HSD): 6 tháng kể từ ngày sản xuất\\n Số lượng: 12 viên']"
      ]
     },
     "execution_count": 10,
     "metadata": {},
     "output_type": "execute_result"
    }
   ],
   "source": [
    "# Test the Retriever\n",
    "retriever = Retriever(semantic_retriever = vector_store, bm25_retriever = bm25_retriever, reranker = reranker)\n",
    "context = retriever(\"trà hoa hồng\")\n",
    "context"
   ]
  },
  {
   "cell_type": "markdown",
   "id": "5d070321",
   "metadata": {},
   "source": [
    "## AI agent"
   ]
  },
  {
   "cell_type": "code",
   "execution_count": 11,
   "id": "c56c1691",
   "metadata": {},
   "outputs": [
    {
     "name": "stderr",
     "output_type": "stream",
     "text": [
      "c:\\Users\\huyho\\anaconda3\\envs\\text2sql\\Lib\\site-packages\\IPython\\core\\interactiveshell.py:3577: LangChainDeprecationWarning: As of langchain-core 0.3.0, LangChain uses pydantic v2 internally. The langchain.pydantic_v1 module was a compatibility shim for pydantic v1, and should no longer be used. Please update the code to import from Pydantic directly.\n",
      "\n",
      "For example, replace imports like: `from langchain.pydantic_v1 import BaseModel`\n",
      "with: `from pydantic import BaseModel`\n",
      "or the v1 compatibility namespace if you are working in a code base that has not been fully upgraded to pydantic 2 yet. \tfrom pydantic.v1 import BaseModel\n",
      "\n",
      "  exec(code_obj, self.user_global_ns, self.user_ns)\n"
     ]
    }
   ],
   "source": [
    "from langchain.pydantic_v1 import BaseModel, Field\n",
    "from langchain.tools import BaseTool\n",
    "from typing import Optional, Type, List\n",
    "from langchain_core.messages import AIMessage,HumanMessage\n",
    "from langchain_core.prompts import ChatPromptTemplate, PromptTemplate\n",
    "from langchain_google_genai import ChatGoogleGenerativeAI\n",
    "\n",
    "# Define a BaseModel Retrieve class for LLM tool calling\n",
    "class Retrieve(BaseModel):\n",
    "    \"\"\"\n",
    "    Searches the knowledge base for answers. The query parameter should contain the contextualized question to search for in the knowledge base.\n",
    "    \"\"\"\n",
    "    query: str = Field(description=\"should be a search query\")\n",
    "\n",
    "toolPrompt = PromptTemplate.from_template(\"\"\"\n",
    "    You are an AI assistant of a herbal tea shop.\n",
    "    For any questions regarding tea products, you ***must use the `Retrieve` tool*** to obtain accurate information.\n",
    "    To use the `Retrieve` tool, take the user's most recent question as well as relevant chat history, extract a clear, concise search query from the question and chat context. Pass this query to the `Retrieve` tool by setting the `query` parameter.\n",
    "    For all other questions or general interactions, such as greetings, expressions of gratitude, or requests for life advice or general knowledge, you may reply directly.\n",
    "    \\\\n Your customers are Vietnamese, so always reply in Vietnamese.\n",
    "    \\\\n Here is your chat history: {chat_history}\n",
    "\"\"\")\n",
    "\n",
    "llm = ChatGoogleGenerativeAI(model=\"gemini-2.0-flash\", google_api_key=gemini_token, temperature = 0.5)\n",
    "agent = llm.bind_tools([Retrieve])\n",
    "agentChain = toolPrompt | agent"
   ]
  },
  {
   "cell_type": "markdown",
   "id": "bf6e3c13",
   "metadata": {},
   "source": [
    "## Expose API"
   ]
  },
  {
   "cell_type": "code",
   "execution_count": 12,
   "id": "f17dc972",
   "metadata": {},
   "outputs": [],
   "source": [
    "import os\n",
    "import json\n",
    "from pyngrok import ngrok\n",
    "from flask import Flask, jsonify, request\n",
    "from flask_cors import CORS"
   ]
  },
  {
   "cell_type": "code",
   "execution_count": 13,
   "id": "13dac176",
   "metadata": {},
   "outputs": [],
   "source": [
    "answerModel = ChatGoogleGenerativeAI(model=\"gemini-2.0-flash\", google_api_key=gemini_token, temperature = 0.5)\n",
    "answerPrompt = PromptTemplate.from_template(\"\"\"\n",
    "     Bạn là chuyên viên tư vấn khách hàng của tiệm trà thảo mộc HerbaZen.\n",
    "     Câu hỏi của khách hàng: {query}\\nTrả lời câu hỏi dựa vào các thông tin sản phẩm của cửa hàng dưới đây: {source_information}.\\\n",
    " \"\"\")\n",
    "answerChain = answerPrompt | answerModel"
   ]
  },
  {
   "cell_type": "code",
   "execution_count": 14,
   "id": "d5113db4",
   "metadata": {},
   "outputs": [
    {
     "name": "stdout",
     "output_type": "stream",
     "text": [
      " * ngrok tunnel: NgrokTunnel: \"https://b56a-42-113-131-6.ngrok-free.app\" -> \"http://localhost:5000\"\n",
      " * Serving Flask app '__main__'\n",
      " * Debug mode: off\n"
     ]
    },
    {
     "name": "stderr",
     "output_type": "stream",
     "text": [
      "WARNING: This is a development server. Do not use it in a production deployment. Use a production WSGI server instead.\n",
      " * Running on http://127.0.0.1:5000\n",
      "Press CTRL+C to quit\n",
      "127.0.0.1 - - [27/Jun/2025 15:43:46] \"OPTIONS /v1/chat HTTP/1.1\" 200 -\n"
     ]
    },
    {
     "name": "stdout",
     "output_type": "stream",
     "text": [
      "Message: xin chào\n",
      "Chat History: [{'role': 'user', 'content': 'xin chào'}]\n"
     ]
    },
    {
     "name": "stderr",
     "output_type": "stream",
     "text": [
      "127.0.0.1 - - [27/Jun/2025 15:43:48] \"POST /v1/chat HTTP/1.1\" 200 -\n"
     ]
    },
    {
     "name": "stdout",
     "output_type": "stream",
     "text": [
      "content='Chào bạn!' additional_kwargs={} response_metadata={'prompt_feedback': {'block_reason': 0, 'safety_ratings': []}, 'finish_reason': 'STOP', 'model_name': 'gemini-2.0-flash', 'safety_ratings': []} id='run--1aee1b09-4235-4721-bae7-bcbece2c107d-0' usage_metadata={'input_tokens': 190, 'output_tokens': 5, 'total_tokens': 195, 'input_token_details': {'cache_read': 0}}\n",
      "Guide to CHAT\n"
     ]
    },
    {
     "name": "stderr",
     "output_type": "stream",
     "text": [
      "127.0.0.1 - - [27/Jun/2025 15:44:21] \"OPTIONS /v1/chat HTTP/1.1\" 200 -\n"
     ]
    },
    {
     "name": "stdout",
     "output_type": "stream",
     "text": [
      "Message: dạo này tôi đang bị mất ngủ, bạn có loại trà nào tốt ko\n",
      "Chat History: [{'role': 'user', 'content': 'xin chào'}, {'role': 'bot', 'content': 'Chào bạn! '}, {'role': 'user', 'content': 'dạo này tôi đang bị mất ngủ, bạn có loại trà nào tốt ko'}]\n",
      "content='' additional_kwargs={'function_call': {'name': 'Retrieve', 'arguments': '{\"query\": \"tr\\\\u00e0 th\\\\u1ea3o d\\\\u01b0\\\\u1ee3c tr\\\\u1ecb m\\\\u1ea5t ng\\\\u1ee7\"}'}} response_metadata={'prompt_feedback': {'block_reason': 0, 'safety_ratings': []}, 'finish_reason': 'STOP', 'model_name': 'gemini-2.0-flash', 'safety_ratings': []} id='run--2082c76d-42b0-4b4a-abaa-ec7243dc6ff9-0' tool_calls=[{'name': 'Retrieve', 'args': {'query': 'trà thảo dược trị mất ngủ'}, 'id': '55f87d3a-f0e4-499a-a248-754564b62c5a', 'type': 'tool_call'}] usage_metadata={'input_tokens': 217, 'output_tokens': 8, 'total_tokens': 225, 'input_token_details': {'cache_read': 0}}\n",
      "Guide to Herbal Tea\n",
      "REFINED: trà thảo dược trị mất ngủ\n",
      "Context 1\n"
     ]
    },
    {
     "name": "stderr",
     "output_type": "stream",
     "text": [
      "127.0.0.1 - - [27/Jun/2025 15:44:25] \"POST /v1/chat HTTP/1.1\" 200 -\n",
      "127.0.0.1 - - [27/Jun/2025 15:47:16] \"OPTIONS /v1/chat HTTP/1.1\" 200 -\n"
     ]
    },
    {
     "name": "stdout",
     "output_type": "stream",
     "text": [
      "Message: có những lưu ý gì khi uống loại trà này ko\n",
      "Chat History: [{'role': 'user', 'content': 'xin chào'}, {'role': 'bot', 'content': 'Chào bạn! '}, {'role': 'user', 'content': 'dạo này tôi đang bị mất ngủ, bạn có loại trà nào tốt ko'}, {'role': 'bot', 'content': 'Chào anh/chị, em là chuyên viên tư vấn của HerbaZen ạ. Em hiểu là anh/chị đang quan tâm đến trà thảo dược hỗ trợ trị mất ngủ đúng không ạ?\\n\\nHiện tại, HerbaZen có sản phẩm **Trà An Mộng Ngủ Ngon** với các thành phần hoàn toàn từ thảo dược tự nhiên, rất phù hợp với nhu cầu của anh/chị ạ.\\n\\n**Thông tin chi tiết về sản phẩm Trà An Mộng Ngủ Ngon:**\\n\\n*   **Giá:** 90.000 VND/hộp (12 viên)\\n*   **Thành phần:** Hoa nhài, Hoa cúc, Táo đỏ, Lá sen, Lạc tiên. Đây đều là những thảo dược nổi tiếng với công dụng an thần, thư giãn.\\n*   **Công dụng:**\\n    *   Giúp thư giãn thần kinh, giảm stress.\\n    *   Hỗ trợ an thần, cải thiện chất lượng giấc ngủ.\\n    *   Giảm triệu chứng lo âu, hồi hộp.\\n*   **Hướng dẫn sử dụng:** Pha 1 viên với 250ml nước nóng (trên 90 độ C), đợi 7-10 phút rồi thưởng thức.\\n*   **Hạn sử dụng:** 6 tháng kể từ ngày sản xuất.\\n\\n**Để đạt hiệu quả tốt nhất, anh/chị vui lòng lưu ý những điều sau khi sử dụng Trà An Mộng Ngủ Ngon:**\\n\\n*   Nên uống sau khi ăn sáng và đặc biệt là **trước khi đi ngủ 30 phút**.\\n*   Không dùng khi đói hoặc thay thế hoàn toàn nước uống hàng ngày.\\n*   **Không nên uống khi lái xe hoặc cần sự tỉnh táo cao.**\\n*   **Không nên dùng cùng lúc với thuốc an thần** (vì có thể gây buồn ngủ quá mức).\\n*   Nếu anh/chị đang mang thai hoặc có bệnh mãn tính, vui lòng tham khảo ý kiến bác sĩ trước khi sử dụng để đảm bảo an toàn.\\n\\nTrà An Mộng Ngủ Ngon của HerbaZen được nhiều khách hàng tin dùng và phản hồi tích cực về hiệu quả cải thiện giấc ngủ. Tuy nhiên, hiệu quả có thể khác nhau tùy thuộc vào cơ địa và tình trạng mất ngủ của mỗi người.\\n\\nAnh/chị có bất kỳ câu hỏi nào khác về sản phẩm hoặc cần em tư vấn thêm không ạ? Em luôn sẵn lòng hỗ trợ!\\n'}, {'role': 'user', 'content': 'có những lưu ý gì khi uống loại trà này ko'}]\n",
      "content='Để em tìm thông tin chi tiết về những lưu ý khi sử dụng Trà An Mộng Ngủ Ngon nhé.' additional_kwargs={'function_call': {'name': 'Retrieve', 'arguments': '{\"query\": \"l\\\\u01b0u \\\\u00fd khi s\\\\u1eed d\\\\u1ee5ng tr\\\\u00e0 An M\\\\u1ed9ng Ng\\\\u1ee7 Ngon\"}'}} response_metadata={'prompt_feedback': {'block_reason': 0, 'safety_ratings': []}, 'finish_reason': 'STOP', 'model_name': 'gemini-2.0-flash', 'safety_ratings': []} id='run--5fb489bf-c273-44ed-a239-cfff541b1b5b-0' tool_calls=[{'name': 'Retrieve', 'args': {'query': 'lưu ý khi sử dụng trà An Mộng Ngủ Ngon'}, 'id': 'cf816451-1b6c-4c0f-aeb2-201d24d42186', 'type': 'tool_call'}] usage_metadata={'input_tokens': 757, 'output_tokens': 42, 'total_tokens': 799, 'input_token_details': {'cache_read': 0}}\n",
      "Guide to Herbal Tea\n",
      "REFINED: lưu ý khi sử dụng trà An Mộng Ngủ Ngon\n",
      "Context 1\n"
     ]
    },
    {
     "name": "stderr",
     "output_type": "stream",
     "text": [
      "127.0.0.1 - - [27/Jun/2025 15:47:19] \"POST /v1/chat HTTP/1.1\" 200 -\n",
      "127.0.0.1 - - [27/Jun/2025 15:52:34] \"GET / HTTP/1.1\" 404 -\n",
      "127.0.0.1 - - [27/Jun/2025 16:02:18] \"GET / HTTP/1.1\" 404 -\n",
      "127.0.0.1 - - [27/Jun/2025 16:06:46] \"GET / HTTP/1.1\" 404 -\n",
      "127.0.0.1 - - [27/Jun/2025 16:14:56] \"GET / HTTP/1.1\" 404 -\n",
      "127.0.0.1 - - [27/Jun/2025 16:15:26] \"GET / HTTP/1.1\" 404 -\n",
      "127.0.0.1 - - [27/Jun/2025 16:16:20] \"GET / HTTP/1.1\" 404 -\n",
      "127.0.0.1 - - [27/Jun/2025 16:16:28] \"GET / HTTP/1.1\" 404 -\n",
      "127.0.0.1 - - [27/Jun/2025 16:24:18] \"OPTIONS /v1/chat HTTP/1.1\" 200 -\n"
     ]
    },
    {
     "name": "stdout",
     "output_type": "stream",
     "text": [
      "Message: xin chào\n",
      "Chat History: [{'role': 'user', 'content': 'xin chào'}]\n"
     ]
    },
    {
     "name": "stderr",
     "output_type": "stream",
     "text": [
      "127.0.0.1 - - [27/Jun/2025 16:24:20] \"POST /v1/chat HTTP/1.1\" 200 -\n"
     ]
    },
    {
     "name": "stdout",
     "output_type": "stream",
     "text": [
      "content='Chào bạn!' additional_kwargs={} response_metadata={'prompt_feedback': {'block_reason': 0, 'safety_ratings': []}, 'finish_reason': 'STOP', 'model_name': 'gemini-2.0-flash', 'safety_ratings': []} id='run--34062798-71a5-41c7-994f-583551200c9e-0' usage_metadata={'input_tokens': 190, 'output_tokens': 5, 'total_tokens': 195, 'input_token_details': {'cache_read': 0}}\n",
      "Guide to CHAT\n"
     ]
    },
    {
     "name": "stderr",
     "output_type": "stream",
     "text": [
      "127.0.0.1 - - [27/Jun/2025 16:24:26] \"OPTIONS /v1/chat HTTP/1.1\" 200 -\n"
     ]
    },
    {
     "name": "stdout",
     "output_type": "stream",
     "text": [
      "Message: tôi muốn mua trà\n",
      "Chat History: [{'role': 'user', 'content': 'xin chào'}, {'role': 'bot', 'content': 'Chào bạn! '}, {'role': 'user', 'content': 'tôi muốn mua trà'}]\n"
     ]
    },
    {
     "name": "stderr",
     "output_type": "stream",
     "text": [
      "127.0.0.1 - - [27/Jun/2025 16:24:28] \"POST /v1/chat HTTP/1.1\" 200 -\n"
     ]
    },
    {
     "name": "stdout",
     "output_type": "stream",
     "text": [
      "content='Chào bạn! Bạn muốn mua loại trà nào ạ? Để tôi gợi ý cho bạn nhé, bạn có thể cho tôi biết bạn thích hương vị trà như thế nào không?' additional_kwargs={} response_metadata={'prompt_feedback': {'block_reason': 0, 'safety_ratings': []}, 'finish_reason': 'STOP', 'model_name': 'gemini-2.0-flash', 'safety_ratings': []} id='run--a9d43834-b5bb-4391-855a-067922684a9d-0' usage_metadata={'input_tokens': 205, 'output_tokens': 37, 'total_tokens': 242, 'input_token_details': {'cache_read': 0}}\n",
      "Guide to CHAT\n"
     ]
    },
    {
     "name": "stderr",
     "output_type": "stream",
     "text": [
      "127.0.0.1 - - [27/Jun/2025 16:24:34] \"OPTIONS /v1/chat HTTP/1.1\" 200 -\n"
     ]
    },
    {
     "name": "stdout",
     "output_type": "stream",
     "text": [
      "Message: trà mất ngủ\n",
      "Chat History: [{'role': 'user', 'content': 'xin chào'}, {'role': 'bot', 'content': 'Chào bạn! '}, {'role': 'user', 'content': 'tôi muốn mua trà'}, {'role': 'bot', 'content': 'Chào bạn! Bạn muốn mua loại trà nào ạ? Để tôi gợi ý cho bạn nhé, bạn có thể cho tôi biết bạn thích hương vị trà như thế nào không? '}, {'role': 'user', 'content': 'trà mất ngủ'}]\n",
      "content='Để tôi tìm thông tin về trà giúp bạn ngủ ngon nhé.' additional_kwargs={'function_call': {'name': 'Retrieve', 'arguments': '{\"query\": \"tr\\\\u00e0 gi\\\\u00fap ng\\\\u1ee7 ngon\"}'}} response_metadata={'prompt_feedback': {'block_reason': 0, 'safety_ratings': []}, 'finish_reason': 'STOP', 'model_name': 'gemini-2.0-flash', 'safety_ratings': []} id='run--b7b7e5a8-9fe6-4116-80f9-1ec2d8d15790-0' tool_calls=[{'name': 'Retrieve', 'args': {'query': 'trà giúp ngủ ngon'}, 'id': 'caba171c-4196-436c-83e5-aaa31b5fa773', 'type': 'tool_call'}] usage_metadata={'input_tokens': 251, 'output_tokens': 20, 'total_tokens': 271, 'input_token_details': {'cache_read': 0}}\n",
      "Guide to Herbal Tea\n",
      "REFINED: trà giúp ngủ ngon\n",
      "Context 1\n"
     ]
    },
    {
     "name": "stderr",
     "output_type": "stream",
     "text": [
      "127.0.0.1 - - [27/Jun/2025 16:24:38] \"POST /v1/chat HTTP/1.1\" 200 -\n",
      "127.0.0.1 - - [27/Jun/2025 16:25:17] \"OPTIONS /v1/chat HTTP/1.1\" 200 -\n"
     ]
    },
    {
     "name": "stdout",
     "output_type": "stream",
     "text": [
      "Message: xin chào\n",
      "Chat History: [{'role': 'user', 'content': 'xin chào'}]\n"
     ]
    },
    {
     "name": "stderr",
     "output_type": "stream",
     "text": [
      "127.0.0.1 - - [27/Jun/2025 16:25:18] \"POST /v1/chat HTTP/1.1\" 200 -\n"
     ]
    },
    {
     "name": "stdout",
     "output_type": "stream",
     "text": [
      "content='Chào bạn!' additional_kwargs={} response_metadata={'prompt_feedback': {'block_reason': 0, 'safety_ratings': []}, 'finish_reason': 'STOP', 'model_name': 'gemini-2.0-flash', 'safety_ratings': []} id='run--085c3323-a80a-43c9-9cd5-adb1172f2015-0' usage_metadata={'input_tokens': 190, 'output_tokens': 5, 'total_tokens': 195, 'input_token_details': {'cache_read': 0}}\n",
      "Guide to CHAT\n"
     ]
    },
    {
     "name": "stderr",
     "output_type": "stream",
     "text": [
      "127.0.0.1 - - [27/Jun/2025 16:33:22] \"OPTIONS /v1/chat HTTP/1.1\" 200 -\n"
     ]
    },
    {
     "name": "stdout",
     "output_type": "stream",
     "text": [
      "Message: xin chào\n",
      "Chat History: [{'role': 'user', 'content': 'xin chào'}]\n"
     ]
    },
    {
     "name": "stderr",
     "output_type": "stream",
     "text": [
      "127.0.0.1 - - [27/Jun/2025 16:33:23] \"POST /v1/chat HTTP/1.1\" 200 -\n"
     ]
    },
    {
     "name": "stdout",
     "output_type": "stream",
     "text": [
      "content='Chào bạn!' additional_kwargs={} response_metadata={'prompt_feedback': {'block_reason': 0, 'safety_ratings': []}, 'finish_reason': 'STOP', 'model_name': 'gemini-2.0-flash', 'safety_ratings': []} id='run--2062585b-de2f-4566-a5ba-cf2259ce1dcd-0' usage_metadata={'input_tokens': 190, 'output_tokens': 5, 'total_tokens': 195, 'input_token_details': {'cache_read': 0}}\n",
      "Guide to CHAT\n"
     ]
    }
   ],
   "source": [
    "ngrok.set_auth_token(ngrok_token)\n",
    "\n",
    "app = Flask(__name__)\n",
    "CORS(app)\n",
    "\n",
    "@app.route('/v1/chat', methods=['POST'])\n",
    "def chat_v1():\n",
    "    # Extract parameters from the request\n",
    "    user_message = request.json.get('message', {})\n",
    "    chat_history = request.json.get('context', [])\n",
    "    stream = True  # Default to False if not provided\n",
    "\n",
    "    print(f'Message: {user_message}')\n",
    "    print(f'Chat History: {chat_history}')\n",
    "\n",
    "    history_string = \"\\n\".join(\n",
    "      [\n",
    "          f\"{message['role']} : {message['content']}\"\n",
    "          for message in chat_history\n",
    "      ]\n",
    "    )\n",
    "    agent_response = agentChain.invoke({\"chat_history\":history_string})\n",
    "\n",
    "    print(agent_response)\n",
    "    if 'function_call' in agent_response.additional_kwargs:\n",
    "      print('Guide to Herbal Tea')\n",
    "      refine_query = agent_response.tool_calls[0]['args']['query']\n",
    "      print(f'REFINED: {refine_query}')\n",
    "      context = retriever(refine_query)\n",
    "      source_information = \"\"\n",
    "      for doc in context:\n",
    "        content = doc\n",
    "        source_information += content + \"\\n\"\n",
    "\n",
    "      if stream:\n",
    "        def generate():\n",
    "          for chunk in answerChain.stream({\"query\": refine_query, \"source_information\": source_information, \"chat_history\":history_string}):\n",
    "            yield chunk.content\n",
    "        return app.response_class(generate(), mimetype='text/plain')\n",
    "      else:\n",
    "        reponse = answerChain.invoke({\"query\": refine_query, \"source_information\": source_information,\"chat_history\":history_string})\n",
    "        return jsonify({'response': reponse.content})\n",
    "    else:\n",
    "      print('Guide to CHAT')\n",
    "      if stream:\n",
    "        def generate():\n",
    "          for chunk in agent_response.content.split(\" \"):\n",
    "            yield chunk + \" \"\n",
    "        return app.response_class(generate(), mimetype='text/plain')\n",
    "      else:\n",
    "        return jsonify({'response': agent_response.content})\n",
    "    \n",
    "if __name__ == '__main__':\n",
    "    # Start ngrok to tunnel the Flask app\n",
    "    url = ngrok.connect(5000)\n",
    "    print(f\" * ngrok tunnel: {url}\")\n",
    "\n",
    "    # Start Flask app\n",
    "    app.run(port=5000)"
   ]
  }
 ],
 "metadata": {
  "kernelspec": {
   "display_name": "text2sql",
   "language": "python",
   "name": "python3"
  },
  "language_info": {
   "codemirror_mode": {
    "name": "ipython",
    "version": 3
   },
   "file_extension": ".py",
   "mimetype": "text/x-python",
   "name": "python",
   "nbconvert_exporter": "python",
   "pygments_lexer": "ipython3",
   "version": "3.12.7"
  }
 },
 "nbformat": 4,
 "nbformat_minor": 5
}
